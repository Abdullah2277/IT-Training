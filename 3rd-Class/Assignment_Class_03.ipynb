{
  "nbformat": 4,
  "nbformat_minor": 0,
  "metadata": {
    "colab": {
      "provenance": []
    },
    "kernelspec": {
      "name": "python3",
      "display_name": "Python 3"
    },
    "language_info": {
      "name": "python"
    }
  },
  "cells": [
    {
      "cell_type": "markdown",
      "source": [
        "## Implement a to-do list application where users can add, remove, and view tasks."
      ],
      "metadata": {
        "id": "9Q6BJI4H7o2B"
      }
    },
    {
      "cell_type": "code",
      "execution_count": 60,
      "metadata": {
        "id": "DP0y9xTBwItQ"
      },
      "outputs": [],
      "source": [
        "tasks = []\n",
        "\n",
        "def add_task(task):\n",
        "    tasks.append(task)\n",
        "\n",
        "def remove_task(task):\n",
        "  if task in tasks:\n",
        "    tasks.remove(task)\n",
        "\n",
        "def view_tasks():\n",
        "  if len(tasks) == 0:\n",
        "    print(\"No tasks found\")\n",
        "  else:\n",
        "    for task in tasks:\n",
        "        print(task)"
      ]
    },
    {
      "cell_type": "code",
      "source": [
        "view_tasks()"
      ],
      "metadata": {
        "colab": {
          "base_uri": "https://localhost:8080/"
        },
        "id": "3E9E9YcYwOH_",
        "outputId": "d0eb76a6-c9fa-40b8-c4e8-135f72103973"
      },
      "execution_count": 61,
      "outputs": [
        {
          "output_type": "stream",
          "name": "stdout",
          "text": [
            "No tasks found\n"
          ]
        }
      ]
    },
    {
      "cell_type": "code",
      "source": [
        "\n",
        "task1 = \"Do workout\"\n",
        "task2 = \"Email the Supervisor\"\n",
        "\n",
        "add_task(task1)\n",
        "add_task(task2)\n",
        "\n",
        "view_tasks()\n"
      ],
      "metadata": {
        "colab": {
          "base_uri": "https://localhost:8080/"
        },
        "id": "uWxOrnHpwOKV",
        "outputId": "2b0b9a0e-4d81-4deb-ac6b-110686e10d3c"
      },
      "execution_count": 62,
      "outputs": [
        {
          "output_type": "stream",
          "name": "stdout",
          "text": [
            "Do workout\n",
            "Email the Supervisor\n"
          ]
        }
      ]
    },
    {
      "cell_type": "code",
      "source": [
        "\n",
        "remove_task(task1)\n",
        "\n",
        "view_tasks()"
      ],
      "metadata": {
        "colab": {
          "base_uri": "https://localhost:8080/"
        },
        "id": "qyfHqgiOwOMa",
        "outputId": "0a36e2c9-c57a-40db-f59f-69f2b06854e0"
      },
      "execution_count": 63,
      "outputs": [
        {
          "output_type": "stream",
          "name": "stdout",
          "text": [
            "Email the Supervisor\n"
          ]
        }
      ]
    },
    {
      "cell_type": "markdown",
      "source": [
        "## Find Maximum and Minimum Values in a List."
      ],
      "metadata": {
        "id": "kxuOqtF57zPd"
      }
    },
    {
      "cell_type": "code",
      "source": [
        "def findMaxMin(lst):\n",
        "    if len(lst) == 0:\n",
        "        return \"List is Empty\"\n",
        "    max_value = lst[0]\n",
        "    min_value = lst[0]\n",
        "    for num in lst:\n",
        "        if num > max_value:\n",
        "            max_value = num\n",
        "        elif num < min_value:\n",
        "            min_value = num\n",
        "    return max_value, min_value"
      ],
      "metadata": {
        "id": "MiVTxcK4wOOh"
      },
      "execution_count": 64,
      "outputs": []
    },
    {
      "cell_type": "code",
      "source": [
        "lst = []\n",
        "findMaxMin(lst)"
      ],
      "metadata": {
        "id": "i_lPwzKjwOQo",
        "colab": {
          "base_uri": "https://localhost:8080/",
          "height": 35
        },
        "outputId": "444cb1fb-2660-4896-8c22-0adb79b07daf"
      },
      "execution_count": 65,
      "outputs": [
        {
          "output_type": "execute_result",
          "data": {
            "text/plain": [
              "'List is Empty'"
            ],
            "application/vnd.google.colaboratory.intrinsic+json": {
              "type": "string"
            }
          },
          "metadata": {},
          "execution_count": 65
        }
      ]
    },
    {
      "cell_type": "code",
      "source": [
        "lst = [35,49,72,27,25,99,10]\n",
        "maximum,minimum = findMaxMin(lst)\n",
        "print(f\"Minimum value in the given list is: {minimum}\")\n",
        "print(f\"Maximum value in the given list is: {maximum}\")"
      ],
      "metadata": {
        "id": "bP0KJsmrwOS5",
        "colab": {
          "base_uri": "https://localhost:8080/"
        },
        "outputId": "09d4e993-1807-488e-d9db-aa00fb59131b"
      },
      "execution_count": 66,
      "outputs": [
        {
          "output_type": "stream",
          "name": "stdout",
          "text": [
            "Minimum value in the given list is: 10\n",
            "Maximum value in the given list is: 99\n"
          ]
        }
      ]
    },
    {
      "cell_type": "markdown",
      "source": [
        "## Create a Simple Phonebook Using Dictionaries."
      ],
      "metadata": {
        "id": "CcvUjXNY76kQ"
      }
    },
    {
      "cell_type": "code",
      "source": [
        "phoneBook = {}\n",
        "\n",
        "def addContact(name,number):\n",
        "    phoneBook[name] = number\n",
        "\n",
        "def getNumber(name):\n",
        "  return phoneBook.get(name, \"Contact not found\")\n"
      ],
      "metadata": {
        "id": "JEnZrMFywOVU"
      },
      "execution_count": 67,
      "outputs": []
    },
    {
      "cell_type": "code",
      "source": [
        "addContact(\"Abdullah\", 42154639876)\n",
        "addContact(\"Ayesha\", 39876421546)\n",
        "\n",
        "print(phoneBook)"
      ],
      "metadata": {
        "colab": {
          "base_uri": "https://localhost:8080/"
        },
        "id": "Gp1uApuv4RWX",
        "outputId": "f45e4528-4abc-46f9-e507-e85f5575e653"
      },
      "execution_count": 68,
      "outputs": [
        {
          "output_type": "stream",
          "name": "stdout",
          "text": [
            "{'Abdullah': 42154639876, 'Ayesha': 39876421546}\n"
          ]
        }
      ]
    },
    {
      "cell_type": "code",
      "source": [
        "print(f\"The Phone Number of Abdullah is: {getNumber('Abdullah')}\")"
      ],
      "metadata": {
        "colab": {
          "base_uri": "https://localhost:8080/"
        },
        "id": "MXbXPr5x4RYZ",
        "outputId": "8c9c2783-230f-4506-875e-cfc31986e61f"
      },
      "execution_count": 69,
      "outputs": [
        {
          "output_type": "stream",
          "name": "stdout",
          "text": [
            "The Phone Number of Abdullah is: 42154639876\n"
          ]
        }
      ]
    },
    {
      "cell_type": "code",
      "source": [
        "print(getNumber('Ali'))"
      ],
      "metadata": {
        "colab": {
          "base_uri": "https://localhost:8080/"
        },
        "id": "lCQm5FQZ4Rah",
        "outputId": "c898bf58-8230-477b-ac2a-b83cfdb5987a"
      },
      "execution_count": 70,
      "outputs": [
        {
          "output_type": "stream",
          "name": "stdout",
          "text": [
            "Contact not found\n"
          ]
        }
      ]
    },
    {
      "cell_type": "markdown",
      "source": [
        "## Inventory System (Using Dictionaries)."
      ],
      "metadata": {
        "id": "hRV2l_Lx8DwX"
      }
    },
    {
      "cell_type": "code",
      "source": [
        "inventory = {}\n",
        "\n",
        "def addItem(item,quantity):\n",
        "  if item in inventory:\n",
        "    inventory[item] += quantity\n",
        "  else:\n",
        "    inventory[item] = quantity\n",
        "\n",
        "def removeItem(item,quantity):\n",
        "  if item in inventory and inventory[item] >= quantity:\n",
        "      inventory[item] -= quantity\n",
        "      if inventory[item] == 0:\n",
        "        del inventory[item]\n",
        "  else:\n",
        "    print(f\"Insufficient quantity of {item}\")\n",
        "\n",
        "def viewInventory():\n",
        "  if len(inventory) == 0:\n",
        "    print(\"Inventory is empty\")\n",
        "  else:\n",
        "    for item,quantity in inventory.items():\n",
        "      print(f\"{item}: {quantity}\")"
      ],
      "metadata": {
        "id": "w18B1H6u4Rcd"
      },
      "execution_count": 71,
      "outputs": []
    },
    {
      "cell_type": "code",
      "source": [
        "viewInventory()"
      ],
      "metadata": {
        "colab": {
          "base_uri": "https://localhost:8080/"
        },
        "id": "n74chfgL4ReR",
        "outputId": "13bf6b1e-d17c-4f35-9385-46eaee7a3608"
      },
      "execution_count": 72,
      "outputs": [
        {
          "output_type": "stream",
          "name": "stdout",
          "text": [
            "Inventory is empty\n"
          ]
        }
      ]
    },
    {
      "cell_type": "code",
      "source": [
        "addItem(\"Mango\", 10)\n",
        "addItem(\"Banana\", 5)\n",
        "addItem(\"Grapes\", 7)\n",
        "\n",
        "viewInventory()"
      ],
      "metadata": {
        "colab": {
          "base_uri": "https://localhost:8080/"
        },
        "id": "XaGxFJpl4RgT",
        "outputId": "adf183f6-816e-4109-d987-f88a9c964eac"
      },
      "execution_count": 73,
      "outputs": [
        {
          "output_type": "stream",
          "name": "stdout",
          "text": [
            "Mango: 10\n",
            "Banana: 5\n",
            "Grapes: 7\n"
          ]
        }
      ]
    },
    {
      "cell_type": "code",
      "source": [
        "removeItem(\"Mango\", 3)\n",
        "\n",
        "viewInventory()"
      ],
      "metadata": {
        "id": "NsTQ20towOXW",
        "colab": {
          "base_uri": "https://localhost:8080/"
        },
        "outputId": "35a512ad-6a33-484a-d08a-3b086ec6801c"
      },
      "execution_count": 74,
      "outputs": [
        {
          "output_type": "stream",
          "name": "stdout",
          "text": [
            "Mango: 7\n",
            "Banana: 5\n",
            "Grapes: 7\n"
          ]
        }
      ]
    },
    {
      "cell_type": "code",
      "source": [
        "removeItem(\"Banana\", 10)"
      ],
      "metadata": {
        "colab": {
          "base_uri": "https://localhost:8080/"
        },
        "id": "C_Ugbg_-7Sum",
        "outputId": "87651ed2-da15-4dac-e40c-87f690a6f989"
      },
      "execution_count": 75,
      "outputs": [
        {
          "output_type": "stream",
          "name": "stdout",
          "text": [
            "Insufficient quantity of Banana\n"
          ]
        }
      ]
    },
    {
      "cell_type": "markdown",
      "source": [
        "## ATM System Simulation with Global Variables."
      ],
      "metadata": {
        "id": "teMExXzD8I8s"
      }
    },
    {
      "cell_type": "code",
      "source": [
        "def deposit(balance,amount):\n",
        "  balance += amount\n",
        "  print(f\"Amount Deposited: {amount}\")\n",
        "  print(f\"New Balance: {balance}\")\n",
        "  return balance\n",
        "\n",
        "def withdraw(balance,amount):\n",
        "  if balance >= amount:\n",
        "    balance -= amount\n",
        "    print(f\"Amount Withdrawn: {amount}\")\n",
        "    print(f\"New Balance: {balance}\")\n",
        "  else:\n",
        "    print(\"Insufficient Balance\")\n",
        "  return balance\n",
        "\n",
        "def checkBalance(balance):\n",
        "  print(f\"Current Balance: {balance}\")\n"
      ],
      "metadata": {
        "id": "CnmSeKv57Swj"
      },
      "execution_count": 76,
      "outputs": []
    },
    {
      "cell_type": "code",
      "source": [
        "balance = 700\n",
        "\n",
        "checkBalance(balance)"
      ],
      "metadata": {
        "colab": {
          "base_uri": "https://localhost:8080/"
        },
        "id": "JwZ3gLm37kJC",
        "outputId": "4da10e41-1db5-4bc5-ccfe-63691012e54f"
      },
      "execution_count": 77,
      "outputs": [
        {
          "output_type": "stream",
          "name": "stdout",
          "text": [
            "Current Balance: 700\n"
          ]
        }
      ]
    },
    {
      "cell_type": "code",
      "source": [
        "balance = deposit(balance,1000)"
      ],
      "metadata": {
        "colab": {
          "base_uri": "https://localhost:8080/"
        },
        "id": "k3SmIu5v7kLe",
        "outputId": "72c2b7f8-da61-4e18-e14f-79374850ce08"
      },
      "execution_count": 78,
      "outputs": [
        {
          "output_type": "stream",
          "name": "stdout",
          "text": [
            "Amount Deposited: 1000\n",
            "New Balance: 1700\n"
          ]
        }
      ]
    },
    {
      "cell_type": "code",
      "source": [
        "balance = withdraw(balance,500)"
      ],
      "metadata": {
        "colab": {
          "base_uri": "https://localhost:8080/"
        },
        "id": "fcdIrskW7kOV",
        "outputId": "b6afdc14-e43e-4040-db9e-1374556e2f85"
      },
      "execution_count": 79,
      "outputs": [
        {
          "output_type": "stream",
          "name": "stdout",
          "text": [
            "Amount Withdrawn: 500\n",
            "New Balance: 1200\n"
          ]
        }
      ]
    },
    {
      "cell_type": "code",
      "source": [
        "balance = withdraw(balance,1500)"
      ],
      "metadata": {
        "colab": {
          "base_uri": "https://localhost:8080/"
        },
        "id": "bRbR8Sm67Syo",
        "outputId": "400709ff-41b0-4184-a3d5-9052c666a1c4"
      },
      "execution_count": 80,
      "outputs": [
        {
          "output_type": "stream",
          "name": "stdout",
          "text": [
            "Insufficient Balance\n"
          ]
        }
      ]
    },
    {
      "cell_type": "code",
      "source": [
        "checkBalance(balance)"
      ],
      "metadata": {
        "colab": {
          "base_uri": "https://localhost:8080/"
        },
        "id": "whYppsVP9QBr",
        "outputId": "cf137f1f-8a36-4fcf-a1df-04aade6b8239"
      },
      "execution_count": 81,
      "outputs": [
        {
          "output_type": "stream",
          "name": "stdout",
          "text": [
            "Current Balance: 1200\n"
          ]
        }
      ]
    },
    {
      "cell_type": "code",
      "source": [],
      "metadata": {
        "id": "Gxju_MmD9Sti"
      },
      "execution_count": 81,
      "outputs": []
    }
  ]
}