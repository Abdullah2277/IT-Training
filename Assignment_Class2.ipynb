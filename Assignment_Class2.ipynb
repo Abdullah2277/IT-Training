{
  "nbformat": 4,
  "nbformat_minor": 0,
  "metadata": {
    "colab": {
      "provenance": []
    },
    "kernelspec": {
      "name": "python3",
      "display_name": "Python 3"
    },
    "language_info": {
      "name": "python"
    }
  },
  "cells": [
    {
      "cell_type": "code",
      "execution_count": 15,
      "metadata": {
        "colab": {
          "base_uri": "https://localhost:8080/"
        },
        "id": "kevtAeH0igMd",
        "outputId": "1f846335-826b-4e64-fc12-62371100d17e"
      },
      "outputs": [
        {
          "output_type": "stream",
          "name": "stdout",
          "text": [
            "Enter your First Name: Syed\n",
            "Enter your Last Name: Abdullah\n",
            "Your First Name in Upper Case: SYED\n",
            "Your Last Name in Lower Case: abdullah\n"
          ]
        }
      ],
      "source": [
        "firstName = input(\"Enter your First Name: \")\n",
        "lastName = input(\"Enter your Last Name: \")\n",
        "firstName = firstName.upper()\n",
        "print(\"Your First Name in Upper Case:\",firstName)\n",
        "lastName = lastName.lower()\n",
        "print(\"Your Last Name in Lower Case:\",lastName)\n"
      ]
    },
    {
      "cell_type": "code",
      "source": [
        "total_letters = len(firstName) + len(lastName)\n",
        "print(f\"Sum of letters in your first and last names: {total_letters}\")"
      ],
      "metadata": {
        "colab": {
          "base_uri": "https://localhost:8080/"
        },
        "id": "DRD9MRdSimsZ",
        "outputId": "c7d75564-d605-4cbd-a5e7-e84bb7b07586"
      },
      "execution_count": 16,
      "outputs": [
        {
          "output_type": "stream",
          "name": "stdout",
          "text": [
            "Sum of letters in your first and last names: 12\n"
          ]
        }
      ]
    },
    {
      "cell_type": "code",
      "source": [
        "print(\"Calculate the area of following shapes:\")\n",
        "print(\"1. Circle\")\n",
        "print(\"2. Rectangle\")\n",
        "print(\"3. Square\")\n",
        "print(\"4. Triangle\")\n",
        "shape = input(\"Enter the shape you want to calculate the area of: \")\n",
        "print(f\"Finding the Area of {shape}:\")\n",
        "radius = float(input(\"Enter the radius of the circle: \"))\n",
        "area_of_circle = 3.14 * radius ** 2\n",
        "print(f\"The area of the circle is: {area_of_circle} metre_squared.\")"
      ],
      "metadata": {
        "colab": {
          "base_uri": "https://localhost:8080/"
        },
        "id": "7MPSCXIbimuh",
        "outputId": "f996d029-151e-4ad8-bed1-e9489af9506b"
      },
      "execution_count": 17,
      "outputs": [
        {
          "output_type": "stream",
          "name": "stdout",
          "text": [
            "Calculate the area of following shapes:\n",
            "1. Circle\n",
            "2. Rectangle\n",
            "3. Square\n",
            "4. Triangle\n",
            "Enter the shape you want to calculate the area of: Circle\n",
            "Finding the Area of Circle:\n",
            "Enter the radius of the circle: 2\n",
            "The area of the circle is: 12.56 metre_squared.\n"
          ]
        }
      ]
    },
    {
      "cell_type": "code",
      "source": [
        "shape = input(\"Enter the shape you want to calculate the area of: \")\n",
        "print(f\"Finding the Area of {shape}:\")\n",
        "length = float(input(\"Enter the length of the rectangle: \"))\n",
        "width = float(input(\"Enter the width of the rectangle: \"))\n",
        "area_of_rectangle = length * width\n",
        "print(f\"The area of the rectangle is: {area_of_rectangle} metres.\")"
      ],
      "metadata": {
        "colab": {
          "base_uri": "https://localhost:8080/"
        },
        "id": "Z-yKqWPYimyu",
        "outputId": "cb415331-791c-4ec2-b214-ba5673f7fe02"
      },
      "execution_count": 18,
      "outputs": [
        {
          "output_type": "stream",
          "name": "stdout",
          "text": [
            "Enter the shape you want to calculate the area of: Rectangle\n",
            "Finding the Area of Rectangle:\n",
            "Enter the length of the rectangle: 5\n",
            "Enter the width of the rectangle: 4.4\n",
            "The area of the rectangle is: 22.0 metres.\n"
          ]
        }
      ]
    },
    {
      "cell_type": "code",
      "source": [
        "shape = input(\"Enter the shape you want to calculate the area of: \")\n",
        "print(f\"Finding the Area of {shape}:\")\n",
        "side = float(input(\"Enter the side of the square: \"))\n",
        "area_of_square = side ** 2\n",
        "print(f\"The area of the square is: {area_of_square} metres.\")"
      ],
      "metadata": {
        "colab": {
          "base_uri": "https://localhost:8080/"
        },
        "id": "IuGgvDwrio8_",
        "outputId": "15dc910a-0d3e-46fe-f318-a203d66043fd"
      },
      "execution_count": 19,
      "outputs": [
        {
          "output_type": "stream",
          "name": "stdout",
          "text": [
            "Enter the shape you want to calculate the area of: Sqaure\n",
            "Finding the Area of Sqaure:\n",
            "Enter the side of the square: 16.5\n",
            "The area of the square is: 272.25 metres.\n"
          ]
        }
      ]
    },
    {
      "cell_type": "code",
      "source": [
        "shape = input(\"Enter the shape you want to calculate the area of: \")\n",
        "print(f\"Finding the Area of {shape}:\")\n",
        "base = float(input(\"Enter the base of the triangle: \"))\n",
        "height = float(input(\"Enter the height of the triangle: \"))\n",
        "area_of_triangle = 0.5 * base * height\n",
        "print(f\"The area of the triangle is: {area_of_triangle} metres.\")"
      ],
      "metadata": {
        "colab": {
          "base_uri": "https://localhost:8080/"
        },
        "id": "pNuN3yp4io_f",
        "outputId": "c9713c4a-4f00-461a-f98b-2c624ee1e8ea"
      },
      "execution_count": 20,
      "outputs": [
        {
          "output_type": "stream",
          "name": "stdout",
          "text": [
            "Enter the shape you want to calculate the area of: Triangle\n",
            "Finding the Area of Triangle:\n",
            "Enter the base of the triangle: 7\n",
            "Enter the height of the triangle: 10\n",
            "The area of the triangle is: 35.0 metres.\n"
          ]
        }
      ]
    },
    {
      "cell_type": "code",
      "source": [
        "import random"
      ],
      "metadata": {
        "id": "k7nqBTFTipB1"
      },
      "execution_count": 21,
      "outputs": []
    },
    {
      "cell_type": "code",
      "source": [
        "colors = ['Red','Blue','Green','White','Black','Grey']\n",
        "index = random.randint(0,len(colors)-1)\n",
        "selected_color = colors[index]\n",
        "password = selected_color[::-1]\n",
        "print(f\"The Selected Color is {selected_color}\")\n",
        "print(f\"The Password is {password}\")"
      ],
      "metadata": {
        "colab": {
          "base_uri": "https://localhost:8080/"
        },
        "id": "TaT0_2dcm1P5",
        "outputId": "5d91dfa0-be02-4f17-f9b1-7ab2a16618b4"
      },
      "execution_count": 24,
      "outputs": [
        {
          "output_type": "stream",
          "name": "stdout",
          "text": [
            "The Selected Color is White\n",
            "The Password is etihW\n"
          ]
        }
      ]
    }
  ]
}