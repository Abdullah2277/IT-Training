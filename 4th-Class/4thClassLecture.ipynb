{
  "nbformat": 4,
  "nbformat_minor": 0,
  "metadata": {
    "colab": {
      "provenance": []
    },
    "kernelspec": {
      "name": "python3",
      "display_name": "Python 3"
    },
    "language_info": {
      "name": "python"
    }
  },
  "cells": [
    {
      "cell_type": "code",
      "execution_count": null,
      "metadata": {
        "colab": {
          "base_uri": "https://localhost:8080/"
        },
        "id": "T_J3JkU73nPx",
        "outputId": "5cfd06aa-2f65-4035-906c-b48b4d6d3aee"
      },
      "outputs": [
        {
          "output_type": "stream",
          "name": "stdout",
          "text": [
            "Hello!\n",
            "Hello!\n"
          ]
        }
      ],
      "source": [
        "def greet():\n",
        "  print(\"Hello!\")\n",
        "\n",
        "greet()\n",
        "greeting = greet()"
      ]
    },
    {
      "cell_type": "code",
      "source": [
        "def applyfunction(func,val):\n",
        "  return func(val)\n",
        "\n",
        "print(applyfunction(lambda x: x * 5,5))"
      ],
      "metadata": {
        "colab": {
          "base_uri": "https://localhost:8080/"
        },
        "id": "pTFDlTol3pd1",
        "outputId": "f0231221-b8d0-404f-9c30-06a853c45ce2"
      },
      "execution_count": null,
      "outputs": [
        {
          "output_type": "stream",
          "name": "stdout",
          "text": [
            "25\n"
          ]
        }
      ]
    },
    {
      "cell_type": "code",
      "source": [
        "def multiplier(factor):\n",
        "  def multiply(num):\n",
        "    return num * factor\n",
        "  return multiply\n",
        "\n",
        "multiply5 = multiplier(5)\n",
        "print(multiply5(2))"
      ],
      "metadata": {
        "colab": {
          "base_uri": "https://localhost:8080/"
        },
        "id": "WGL8r6Qt3pkC",
        "outputId": "eedac85a-60e9-48d5-c168-93b5bbbd5f56"
      },
      "execution_count": null,
      "outputs": [
        {
          "output_type": "stream",
          "name": "stdout",
          "text": [
            "10\n"
          ]
        }
      ]
    },
    {
      "cell_type": "code",
      "source": [
        "def factorial(n):\n",
        "  if n == 0:\n",
        "    return 1\n",
        "  else:\n",
        "    return n * factorial(n-1)\n",
        "\n",
        "print(factorial(5))"
      ],
      "metadata": {
        "colab": {
          "base_uri": "https://localhost:8080/"
        },
        "id": "nMvYyogG3pmT",
        "outputId": "22ca7e18-e5b0-4c68-ee47-a1bd22bded35"
      },
      "execution_count": null,
      "outputs": [
        {
          "output_type": "stream",
          "name": "stdout",
          "text": [
            "120\n"
          ]
        }
      ]
    },
    {
      "cell_type": "code",
      "source": [
        "def greet(name):\n",
        "  \"\"\"This function greets the user by their name.\"\"\"\n",
        "  print(f\"Hello {name}!\")\n",
        "\n",
        "greet(\"Alice\")\n",
        "\n",
        "help(greet)"
      ],
      "metadata": {
        "colab": {
          "base_uri": "https://localhost:8080/"
        },
        "id": "afSUKyIV3poY",
        "outputId": "4b114ed2-b2ff-41ef-fb3b-ecc31814e158"
      },
      "execution_count": null,
      "outputs": [
        {
          "output_type": "stream",
          "name": "stdout",
          "text": [
            "Hello Alice!\n",
            "Help on function greet in module __main__:\n",
            "\n",
            "greet(name)\n",
            "    This function greets the user by their name.\n",
            "\n"
          ]
        }
      ]
    },
    {
      "cell_type": "code",
      "source": [
        "x = 10 # Global Variable\n",
        "def random():\n",
        "  x = 5 # Local Variable\n",
        "  print(\"Inside Function\",x)\n",
        "\n",
        "\n",
        "random()\n",
        "print(\"Outside Function\",x)"
      ],
      "metadata": {
        "colab": {
          "base_uri": "https://localhost:8080/"
        },
        "id": "4sBOCjSc3pqR",
        "outputId": "51a8dc7a-424f-49ef-d506-c827beee3e00"
      },
      "execution_count": null,
      "outputs": [
        {
          "output_type": "stream",
          "name": "stdout",
          "text": [
            "Inside Function 5\n",
            "Outside Function 10\n"
          ]
        }
      ]
    },
    {
      "cell_type": "code",
      "source": [
        "z = 10\n",
        "def random():\n",
        "  global z\n",
        "  z = 5\n",
        "  print(\"Inside Function\",z)\n",
        "\n",
        "random()\n",
        "print(\"Outside Function\",z)"
      ],
      "metadata": {
        "colab": {
          "base_uri": "https://localhost:8080/"
        },
        "id": "4jPsGz-z3psU",
        "outputId": "debb82d5-38e7-4c95-9de3-b4a030efc6c6"
      },
      "execution_count": null,
      "outputs": [
        {
          "output_type": "stream",
          "name": "stdout",
          "text": [
            "Inside Function 5\n",
            "Outside Function 5\n"
          ]
        }
      ]
    },
    {
      "cell_type": "code",
      "source": [
        "def outer():\n",
        "  x = 5  # Enclosed Variable\n",
        "  def inner():\n",
        "    nonlocal x\n",
        "    x = 10\n",
        "    print(\"Inner Function\",x)\n",
        "  inner()\n",
        "  print(\"Outer Function\",x)\n",
        "\n",
        "outer()"
      ],
      "metadata": {
        "colab": {
          "base_uri": "https://localhost:8080/"
        },
        "id": "4xSjirFF3puZ",
        "outputId": "74031086-db23-4f80-9889-264573dcdcb8"
      },
      "execution_count": null,
      "outputs": [
        {
          "output_type": "stream",
          "name": "stdout",
          "text": [
            "Inner Function 10\n",
            "Outer Function 10\n"
          ]
        }
      ]
    },
    {
      "cell_type": "code",
      "source": [
        "def addnums(a,b):\n",
        "  return a+b\n",
        "\n",
        "print(addnums(1,2))"
      ],
      "metadata": {
        "colab": {
          "base_uri": "https://localhost:8080/"
        },
        "id": "kAzhWNEj3pwf",
        "outputId": "f69e6eef-937a-410e-a1e8-5e0267f3e6dc"
      },
      "execution_count": null,
      "outputs": [
        {
          "output_type": "stream",
          "name": "stdout",
          "text": [
            "3\n"
          ]
        }
      ]
    },
    {
      "cell_type": "code",
      "source": [
        "import numpy as np"
      ],
      "metadata": {
        "id": "NWoFDRjG3pyi"
      },
      "execution_count": null,
      "outputs": []
    },
    {
      "cell_type": "code",
      "source": [
        "lst = [1,2,3]\n",
        "np_array = np.array(lst)\n",
        "print(type(lst))\n",
        "print(type(np_array))\n",
        "print(np_array.shape)"
      ],
      "metadata": {
        "colab": {
          "base_uri": "https://localhost:8080/"
        },
        "id": "rREKD0gn3p0f",
        "outputId": "1cf3148e-1927-4ee5-bbfd-c784cdab11bf"
      },
      "execution_count": null,
      "outputs": [
        {
          "output_type": "stream",
          "name": "stdout",
          "text": [
            "<class 'list'>\n",
            "<class 'numpy.ndarray'>\n",
            "(3,)\n"
          ]
        }
      ]
    },
    {
      "cell_type": "code",
      "source": [
        "array1d = np.array([1,2,3])\n",
        "print(array1d.ndim)\n",
        "array2d = np.array([[1,2],[3,4],[5,6]])\n",
        "print(array2d.ndim)"
      ],
      "metadata": {
        "colab": {
          "base_uri": "https://localhost:8080/"
        },
        "id": "5p81qDAn3p2h",
        "outputId": "551bcc37-f38a-4146-edd1-11c93264f0b7"
      },
      "execution_count": null,
      "outputs": [
        {
          "output_type": "stream",
          "name": "stdout",
          "text": [
            "1\n",
            "2\n"
          ]
        }
      ]
    },
    {
      "cell_type": "code",
      "source": [
        "zero_array = np.zeros((3,2))\n",
        "print(zero_array)\n",
        "one_array = np.ones((3,2))\n",
        "print(one_array)\n",
        "full_array = np.full((3,2),10)\n",
        "print(full_array)"
      ],
      "metadata": {
        "colab": {
          "base_uri": "https://localhost:8080/"
        },
        "id": "j6_3dYcP3p4l",
        "outputId": "c824dc04-d906-4bd0-db42-820a057bd2c9"
      },
      "execution_count": null,
      "outputs": [
        {
          "output_type": "stream",
          "name": "stdout",
          "text": [
            "[[0. 0.]\n",
            " [0. 0.]\n",
            " [0. 0.]]\n",
            "[[1. 1.]\n",
            " [1. 1.]\n",
            " [1. 1.]]\n",
            "[[10 10]\n",
            " [10 10]\n",
            " [10 10]]\n"
          ]
        }
      ]
    },
    {
      "cell_type": "code",
      "source": [
        "linspace_array = np.linspace(0,10,6)\n",
        "print(linspace_array)"
      ],
      "metadata": {
        "colab": {
          "base_uri": "https://localhost:8080/"
        },
        "id": "0EiTFv3B3p6u",
        "outputId": "ff50fc7c-4abf-4d1c-81cf-85495e65be1e"
      },
      "execution_count": null,
      "outputs": [
        {
          "output_type": "stream",
          "name": "stdout",
          "text": [
            "[ 0.  2.  4.  6.  8. 10.]\n"
          ]
        }
      ]
    },
    {
      "cell_type": "code",
      "source": [
        "arange_array = np.arange(0,10,3)\n",
        "print(arange_array)"
      ],
      "metadata": {
        "colab": {
          "base_uri": "https://localhost:8080/"
        },
        "id": "vt3BQOHF3p8j",
        "outputId": "193421d2-e8e0-430f-a248-08e3a3ffaf83"
      },
      "execution_count": null,
      "outputs": [
        {
          "output_type": "stream",
          "name": "stdout",
          "text": [
            "[0 3 6 9]\n"
          ]
        }
      ]
    },
    {
      "cell_type": "code",
      "source": [
        "random_array = np.random.rand(3,2)\n",
        "print(random_array)\n",
        "intrandm_array = np.random.randint(1,10,(3,2))\n",
        "print(intrandm_array)"
      ],
      "metadata": {
        "colab": {
          "base_uri": "https://localhost:8080/"
        },
        "id": "nbH_mMmk3p-0",
        "outputId": "5c69f582-f2f5-44f7-8aa9-5c60f91bcd46"
      },
      "execution_count": null,
      "outputs": [
        {
          "output_type": "stream",
          "name": "stdout",
          "text": [
            "[[0.44841306 0.14377862]\n",
            " [0.07445114 0.99211794]\n",
            " [0.85979303 0.00658373]]\n",
            "[[9 9]\n",
            " [8 6]\n",
            " [3 4]]\n"
          ]
        }
      ]
    },
    {
      "cell_type": "code",
      "source": [
        "np_array = np.array([[1,2,3],[4,5,6],[5,10,15]])\n",
        "print(np_array[1,2])\n",
        "print(np_array.shape)\n",
        "print(np_array.size)\n",
        "print(np_array.ndim)"
      ],
      "metadata": {
        "colab": {
          "base_uri": "https://localhost:8080/"
        },
        "id": "A9sCjBsR3qAp",
        "outputId": "8690b171-8fe6-46dd-9d48-1488818c3733"
      },
      "execution_count": null,
      "outputs": [
        {
          "output_type": "stream",
          "name": "stdout",
          "text": [
            "6\n",
            "(3, 3)\n",
            "9\n",
            "2\n"
          ]
        }
      ]
    },
    {
      "cell_type": "code",
      "source": [
        "np_array = np.array([[1,2,3],[4,5,6],[5,10,15]])\n",
        "print(np_array[0:2,0:2])"
      ],
      "metadata": {
        "colab": {
          "base_uri": "https://localhost:8080/"
        },
        "id": "67Fo38er3qCo",
        "outputId": "9a08cae5-2410-4551-f6b0-757b75de87c2"
      },
      "execution_count": null,
      "outputs": [
        {
          "output_type": "stream",
          "name": "stdout",
          "text": [
            "[[1 2]\n",
            " [4 5]]\n"
          ]
        }
      ]
    },
    {
      "cell_type": "code",
      "source": [
        "np_array = np.array([[1,2,3],[4,5,6],[5,10,15]])\n",
        "print(np_array.dtype)\n",
        "np_array = np_array.reshape(-1,1)\n",
        "print(np_array)\n",
        "np_array = np.array([1,2,3,4,5,6])\n",
        "np_array = np_array.reshape(2,3)\n",
        "print(np_array)"
      ],
      "metadata": {
        "colab": {
          "base_uri": "https://localhost:8080/"
        },
        "id": "v5s-eTHS3qGB",
        "outputId": "3e490f6a-f713-49d6-8151-28ea54fb1811"
      },
      "execution_count": null,
      "outputs": [
        {
          "output_type": "stream",
          "name": "stdout",
          "text": [
            "int64\n",
            "[[ 1]\n",
            " [ 2]\n",
            " [ 3]\n",
            " [ 4]\n",
            " [ 5]\n",
            " [ 6]\n",
            " [ 5]\n",
            " [10]\n",
            " [15]]\n",
            "[[1 2 3]\n",
            " [4 5 6]]\n"
          ]
        }
      ]
    },
    {
      "cell_type": "code",
      "source": [
        "arr1 = np.array([[1,2,3],[4,5,6]])\n",
        "arr2 = np.array([[7,8,9],[10,11,12]])\n",
        "print(np.concatenate((arr1,arr2),axis=1))\n",
        "print(arr1+arr2)\n",
        "print(arr1*arr2)\n",
        "print(arr1-arr2)\n",
        "print(arr1/arr2)"
      ],
      "metadata": {
        "colab": {
          "base_uri": "https://localhost:8080/"
        },
        "id": "JTFUdmxeAbbA",
        "outputId": "d95b18bd-4440-44e9-d667-2202eda78db7"
      },
      "execution_count": null,
      "outputs": [
        {
          "output_type": "stream",
          "name": "stdout",
          "text": [
            "[[ 1  2  3  7  8  9]\n",
            " [ 4  5  6 10 11 12]]\n",
            "[[ 8 10 12]\n",
            " [14 16 18]]\n",
            "[[ 7 16 27]\n",
            " [40 55 72]]\n",
            "[[-6 -6 -6]\n",
            " [-6 -6 -6]]\n",
            "[[0.14285714 0.25       0.33333333]\n",
            " [0.4        0.45454545 0.5       ]]\n"
          ]
        }
      ]
    },
    {
      "cell_type": "code",
      "source": [
        "print(np.min(arr1))\n",
        "print(np.max(arr1))\n",
        "print(np.sum(arr2))\n",
        "print(np.mean(arr1))\n",
        "print(np.median(arr2))\n",
        "print(np.std(arr1))\n",
        "print(np.sin(arr1))"
      ],
      "metadata": {
        "colab": {
          "base_uri": "https://localhost:8080/"
        },
        "id": "lFQnq3goAbdd",
        "outputId": "49746b8e-df23-4565-d2e8-62013717075a"
      },
      "execution_count": null,
      "outputs": [
        {
          "output_type": "stream",
          "name": "stdout",
          "text": [
            "1\n",
            "6\n",
            "57\n",
            "3.5\n",
            "9.5\n",
            "1.707825127659933\n",
            "[[ 0.84147098  0.90929743  0.14112001]\n",
            " [-0.7568025  -0.95892427 -0.2794155 ]]\n"
          ]
        }
      ]
    },
    {
      "cell_type": "code",
      "source": [
        "print(arr1[1,2])\n",
        "print(arr1[1,1:3])\n",
        "print(arr2[0,-1])"
      ],
      "metadata": {
        "colab": {
          "base_uri": "https://localhost:8080/"
        },
        "id": "AUvWhzf4Abfr",
        "outputId": "6d985c19-fd68-4bc3-b367-957aaf3f555c"
      },
      "execution_count": null,
      "outputs": [
        {
          "output_type": "stream",
          "name": "stdout",
          "text": [
            "6\n",
            "[5 6]\n",
            "9\n"
          ]
        }
      ]
    },
    {
      "cell_type": "code",
      "source": [
        "arr3 = np.array([1,2,3,4,5,6,7])\n",
        "print(arr3[1:6:2])\n",
        "print(arr3[::3])\n",
        "print(arr3[::-1])"
      ],
      "metadata": {
        "colab": {
          "base_uri": "https://localhost:8080/"
        },
        "id": "clWpCbRqCQbe",
        "outputId": "b8a6685e-52e7-41d3-ac86-c875c1c02fb4"
      },
      "execution_count": null,
      "outputs": [
        {
          "output_type": "stream",
          "name": "stdout",
          "text": [
            "[2 4 6]\n",
            "[1 4 7]\n",
            "[7 6 5 4 3 2 1]\n"
          ]
        }
      ]
    },
    {
      "cell_type": "code",
      "source": [
        "print(arr1)\n",
        "print(arr1.T)\n",
        "print(arr1[0:2,1:3])\n",
        "print(arr1[:,::2])"
      ],
      "metadata": {
        "colab": {
          "base_uri": "https://localhost:8080/"
        },
        "id": "xmdxPxgnC2RA",
        "outputId": "1be3f622-a23f-4ef8-a9d1-12049b178a96"
      },
      "execution_count": null,
      "outputs": [
        {
          "output_type": "stream",
          "name": "stdout",
          "text": [
            "[[1 2 3]\n",
            " [4 5 6]]\n",
            "[[1 4]\n",
            " [2 5]\n",
            " [3 6]]\n",
            "[[2 3]\n",
            " [5 6]]\n",
            "[[1 3]\n",
            " [4 6]]\n"
          ]
        }
      ]
    },
    {
      "cell_type": "code",
      "source": [
        "print(arr1.flatten())\n",
        "result1 = np.where(arr1 > 4)\n",
        "print(result1)\n",
        "result2 = np.where(arr3 > 3)\n",
        "print(result2)"
      ],
      "metadata": {
        "colab": {
          "base_uri": "https://localhost:8080/"
        },
        "id": "rrDby7l5CQqy",
        "outputId": "42530540-50c0-413d-bd20-12631c64f32f"
      },
      "execution_count": null,
      "outputs": [
        {
          "output_type": "stream",
          "name": "stdout",
          "text": [
            "[1 2 3 4 5 6]\n",
            "(array([1, 1]), array([1, 2]))\n",
            "(array([3, 4, 5, 6]),)\n"
          ]
        }
      ]
    },
    {
      "cell_type": "code",
      "source": [
        "print(arr3)\n",
        "print(np.sort(arr3))\n",
        "print(np.take(arr3,[2,4]))\n",
        "np.put(arr3,[2,4],[10,11])\n",
        "print(arr3)"
      ],
      "metadata": {
        "colab": {
          "base_uri": "https://localhost:8080/"
        },
        "id": "AUf3iwGiCQ4B",
        "outputId": "ae0955bf-ec8c-4446-9ab0-8a63fb4ddb85"
      },
      "execution_count": null,
      "outputs": [
        {
          "output_type": "stream",
          "name": "stdout",
          "text": [
            "[1 2 3 4 5 6 7]\n",
            "[1 2 3 4 5 6 7]\n",
            "[3 5]\n",
            "[ 1  2 10  4 11  6  7]\n"
          ]
        }
      ]
    },
    {
      "cell_type": "code",
      "source": [],
      "metadata": {
        "id": "v2IBQTtICRCz"
      },
      "execution_count": null,
      "outputs": []
    },
    {
      "cell_type": "code",
      "source": [],
      "metadata": {
        "id": "ebcn1kYCF1Vq"
      },
      "execution_count": null,
      "outputs": []
    },
    {
      "cell_type": "code",
      "source": [],
      "metadata": {
        "id": "eunkrh_mF1ad"
      },
      "execution_count": null,
      "outputs": []
    }
  ]
}