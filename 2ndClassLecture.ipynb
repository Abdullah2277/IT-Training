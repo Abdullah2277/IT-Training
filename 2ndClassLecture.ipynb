{
  "nbformat": 4,
  "nbformat_minor": 0,
  "metadata": {
    "colab": {
      "provenance": []
    },
    "kernelspec": {
      "name": "python3",
      "display_name": "Python 3"
    },
    "language_info": {
      "name": "python"
    }
  },
  "cells": [
    {
      "cell_type": "code",
      "execution_count": null,
      "metadata": {
        "colab": {
          "base_uri": "https://localhost:8080/"
        },
        "id": "0YmJDW432cS3",
        "outputId": "b2d3a0df-ab4a-46a9-93b9-21af5bac431b"
      },
      "outputs": [
        {
          "output_type": "stream",
          "name": "stdout",
          "text": [
            "Hello World!\n"
          ]
        }
      ],
      "source": [
        "# this is a comment\n",
        "if True:\n",
        "  print(\"Hello World!\")"
      ]
    },
    {
      "cell_type": "code",
      "source": [
        "name = \"Abdullah\"\n",
        "age = 22\n",
        "pi = 3.14\n",
        "print(\"My name is\",name,\"and my age is\",age)\n",
        "print(\"The value of Pi is\",pi)"
      ],
      "metadata": {
        "colab": {
          "base_uri": "https://localhost:8080/"
        },
        "id": "08LcEkiy2uGG",
        "outputId": "8b5bf81e-0d69-48a7-d37f-4849b04c93c2"
      },
      "execution_count": null,
      "outputs": [
        {
          "output_type": "stream",
          "name": "stdout",
          "text": [
            "My name is Abdullah and my age is 22\n",
            "The value of Pi is 3.14\n"
          ]
        }
      ]
    },
    {
      "cell_type": "code",
      "source": [
        "userName = input(\"Please enter your name: \")\n",
        "userAge = int(input(\"Please enter your age: \"))\n",
        "print(\"Hello\",userName)\n",
        "print(\"Your age is\",userAge)"
      ],
      "metadata": {
        "colab": {
          "base_uri": "https://localhost:8080/"
        },
        "id": "PrPgMuc62uJm",
        "outputId": "dd5665b8-da1b-499d-db2f-c49211385259"
      },
      "execution_count": null,
      "outputs": [
        {
          "output_type": "stream",
          "name": "stdout",
          "text": [
            "Please enter your name: Abdullah\n",
            "Please enter your age: 22\n",
            "Hello Abdullah\n",
            "Your age is 22\n"
          ]
        }
      ]
    },
    {
      "cell_type": "code",
      "source": [
        "x,y = 10,0.0012\n",
        "z = 2 + 3j\n",
        "print(z)\n",
        "print(z.real)\n",
        "print(z.imag)"
      ],
      "metadata": {
        "colab": {
          "base_uri": "https://localhost:8080/"
        },
        "id": "2EyZY6su4aSJ",
        "outputId": "bbd0209d-d583-4d5d-d153-dbcffb49d371"
      },
      "execution_count": null,
      "outputs": [
        {
          "output_type": "stream",
          "name": "stdout",
          "text": [
            "(2+3j)\n",
            "2.0\n",
            "3.0\n"
          ]
        }
      ]
    },
    {
      "cell_type": "code",
      "source": [
        "text = \"Hello World!\"\n",
        "repeat = \"Python\" * 10\n",
        "print(repeat)\n",
        "replace = text.replace(\"Hello\",\"Hi\")\n",
        "print(replace)\n",
        "print(text[0])\n",
        "print(text[0:5])\n",
        "print(text[6:])"
      ],
      "metadata": {
        "colab": {
          "base_uri": "https://localhost:8080/"
        },
        "id": "3KUoFCg34aU4",
        "outputId": "96a5aa19-824f-4180-c02b-d6e439427e4c"
      },
      "execution_count": null,
      "outputs": [
        {
          "output_type": "stream",
          "name": "stdout",
          "text": [
            "PythonPythonPythonPythonPythonPythonPythonPythonPythonPython\n",
            "Hi World!\n",
            "H\n",
            "Hello\n",
            "World!\n"
          ]
        }
      ]
    },
    {
      "cell_type": "code",
      "source": [
        "lst = [1,2,3,4,5]\n",
        "print(\"This is a list:\",lst)\n",
        "lst.append(7)\n",
        "print(lst)\n",
        "print(lst[:4])"
      ],
      "metadata": {
        "colab": {
          "base_uri": "https://localhost:8080/"
        },
        "id": "7DFkQoyR6A5H",
        "outputId": "4d8231f2-c9bc-4150-f382-7009579b8678"
      },
      "execution_count": null,
      "outputs": [
        {
          "output_type": "stream",
          "name": "stdout",
          "text": [
            "This is a list: [1, 2, 3, 4, 5]\n",
            "[1, 2, 3, 4, 5, 7]\n",
            "[1, 2, 3, 4]\n"
          ]
        }
      ]
    },
    {
      "cell_type": "code",
      "source": [
        "tup = (1,2,3,4,5)\n",
        "print(tup)\n",
        "print(\"Last Element of the tuple is\",tup[-1])"
      ],
      "metadata": {
        "colab": {
          "base_uri": "https://localhost:8080/"
        },
        "id": "DcDvc2nW6A7Z",
        "outputId": "144cb648-0cbc-411f-b4b6-48b4a3b9c3e6"
      },
      "execution_count": null,
      "outputs": [
        {
          "output_type": "stream",
          "name": "stdout",
          "text": [
            "(1, 2, 3, 4, 5)\n",
            "Last Element of the tuple is 5\n"
          ]
        }
      ]
    },
    {
      "cell_type": "code",
      "source": [
        "sets = {1,2,3,4,5}\n",
        "print(\"This is a Set:\",sets)\n",
        "sets.add(1)\n",
        "print(sets)\n",
        "sets.add(6)\n",
        "print(sets)"
      ],
      "metadata": {
        "colab": {
          "base_uri": "https://localhost:8080/"
        },
        "id": "CvLW7Exy6AWB",
        "outputId": "d2bd84ec-61bb-4dd2-eedc-68f8f0e92de5"
      },
      "execution_count": null,
      "outputs": [
        {
          "output_type": "stream",
          "name": "stdout",
          "text": [
            "This is a Set: {1, 2, 3, 4, 5}\n",
            "{1, 2, 3, 4, 5}\n",
            "{1, 2, 3, 4, 5, 6}\n"
          ]
        }
      ]
    },
    {
      "cell_type": "code",
      "source": [
        "dictionary = {\"name\":\"Abdullah\",\"age\":22}\n",
        "print(dictionary)\n",
        "print(dictionary[\"name\"])\n",
        "print(dictionary[\"age\"])\n",
        "dictionary[\"name\"] = \"Syed Muhammad Abdullah\"\n",
        "print(dictionary)\n",
        "dictionary[\"Grade\"] = \"A\"\n",
        "print(dictionary)"
      ],
      "metadata": {
        "colab": {
          "base_uri": "https://localhost:8080/"
        },
        "id": "-Rtd9azb6AYP",
        "outputId": "9f5bcd31-9ff3-418a-823e-b189e4ba0954"
      },
      "execution_count": null,
      "outputs": [
        {
          "output_type": "stream",
          "name": "stdout",
          "text": [
            "{'name': 'Abdullah', 'age': 22}\n",
            "Abdullah\n",
            "22\n",
            "{'name': 'Syed Muhammad Abdullah', 'age': 22}\n",
            "{'name': 'Syed Muhammad Abdullah', 'age': 22, 'Grade': 'A'}\n"
          ]
        }
      ]
    },
    {
      "cell_type": "code",
      "source": [
        "num1,num2 = 10,20.5\n",
        "print(num1+num2)\n",
        "num = str(5)\n",
        "print(num)\n",
        "print(type(num))\n",
        "print(f\"The number num = {num} is now of type string\")"
      ],
      "metadata": {
        "colab": {
          "base_uri": "https://localhost:8080/"
        },
        "id": "DCV3rq8j8n15",
        "outputId": "2769c284-11fa-445c-cb8f-5fe210593852"
      },
      "execution_count": null,
      "outputs": [
        {
          "output_type": "stream",
          "name": "stdout",
          "text": [
            "30.5\n",
            "5\n",
            "<class 'str'>\n",
            "The number num = 5 is now of type string\n"
          ]
        }
      ]
    },
    {
      "cell_type": "code",
      "source": [
        "print(\"Floor Division:\",10//3)\n",
        "print(\"Modulus:\",5%2)\n",
        "print(\"Exponent:\",2**3)"
      ],
      "metadata": {
        "colab": {
          "base_uri": "https://localhost:8080/"
        },
        "id": "9agmBzHH8n4h",
        "outputId": "36b8b070-df8c-4dd6-8c09-35cc5d6dbbeb"
      },
      "execution_count": null,
      "outputs": [
        {
          "output_type": "stream",
          "name": "stdout",
          "text": [
            "Floor Division: 3\n",
            "Modulus: 1\n",
            "Exponent: 8\n"
          ]
        }
      ]
    },
    {
      "cell_type": "code",
      "source": [
        "a = 7 # Binary: 111\n",
        "b = 2 # Binary: 010\n",
        "print(\"a & b:\",a & b)\n",
        "print(\"a | b:\",a | b)\n",
        "print(\"a ^ b:\",a ^ b)\n",
        "print(\"~a:\",~a)\n",
        "print(\"a << 1:\",a << 1)\n",
        "print(\"a >> 1:\",a >> 1)"
      ],
      "metadata": {
        "colab": {
          "base_uri": "https://localhost:8080/"
        },
        "id": "tOWsoA3V_a0i",
        "outputId": "a40163ec-7120-4a12-c73a-fd7649459a9d"
      },
      "execution_count": null,
      "outputs": [
        {
          "output_type": "stream",
          "name": "stdout",
          "text": [
            "a & b: 2\n",
            "a | b: 7\n",
            "a ^ b: 5\n",
            "~a: -8\n",
            "a << 1: 14\n",
            "a >> 1: 3\n"
          ]
        }
      ]
    },
    {
      "cell_type": "code",
      "source": [
        "print(\"Length of the list is:\",len(lst))\n",
        "word = \"BuiLdINg\"\n",
        "print(\"Lowercase:\",word.lower())\n",
        "print(\"Uppercase:\",word.upper())\n",
        "print(\"Capitalized:\",word.capitalize())"
      ],
      "metadata": {
        "colab": {
          "base_uri": "https://localhost:8080/"
        },
        "id": "_i6RJ7Sj_a22",
        "outputId": "4f4c5054-787d-44d2-9c7d-32895f0494d7"
      },
      "execution_count": null,
      "outputs": [
        {
          "output_type": "stream",
          "name": "stdout",
          "text": [
            "Length of the list is: 6\n",
            "Lowercase: building\n",
            "Uppercase: BUILDING\n",
            "Capitalized: Building\n"
          ]
        }
      ]
    },
    {
      "cell_type": "code",
      "source": [
        "string = \"My name is Abdullah\"\n",
        "print(string)\n",
        "print(string.split())\n",
        "csv = \"Name,Age,Country\"\n",
        "print(csv)\n",
        "print(csv.split(\",\"))"
      ],
      "metadata": {
        "colab": {
          "base_uri": "https://localhost:8080/"
        },
        "id": "9O-qrMm__a5O",
        "outputId": "6e7b1b3a-9f4e-42a1-90cb-cff119eb0b67"
      },
      "execution_count": null,
      "outputs": [
        {
          "output_type": "stream",
          "name": "stdout",
          "text": [
            "My name is Abdullah\n",
            "['My', 'name', 'is', 'Abdullah']\n",
            "Name,Age,Country\n",
            "['Name', 'Age', 'Country']\n"
          ]
        }
      ]
    },
    {
      "cell_type": "code",
      "source": [
        "import random\n",
        "\n",
        "Colors = ['Red','Blue','Green']\n",
        "print(random.randint(1,100))\n",
        "print(random.random())\n",
        "print(random.choice(Colors))\n"
      ],
      "metadata": {
        "colab": {
          "base_uri": "https://localhost:8080/"
        },
        "id": "lxNWahv5BTGk",
        "outputId": "3cc80ca6-ea07-4620-e521-d4ca63c65217"
      },
      "execution_count": null,
      "outputs": [
        {
          "output_type": "stream",
          "name": "stdout",
          "text": [
            "35\n",
            "0.33035212949608217\n",
            "Green\n"
          ]
        }
      ]
    },
    {
      "cell_type": "code",
      "source": [],
      "metadata": {
        "id": "HjepoQCJCdID"
      },
      "execution_count": null,
      "outputs": []
    }
  ]
}